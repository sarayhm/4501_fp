{
 "cells": [
  {
   "cell_type": "code",
   "execution_count": 3,
   "id": "50bc75db-7514-48a4-bbbe-a784daa1619a",
   "metadata": {},
   "outputs": [
    {
     "name": "stderr",
     "output_type": "stream",
     "text": [
      "/opt/anaconda3/lib/python3.8/site-packages/IPython/core/interactiveshell.py:3165: DtypeWarning: Columns (20,31,32) have mixed types.Specify dtype option on import or set low_memory=False.\n",
      "  has_raised = await self.run_ast_nodes(code_ast.body, cell_name,\n"
     ]
    }
   ],
   "source": [
    "import pandas as pd\n",
    "df=pd.read_csv(\"311_Service_Requests_2020.csv\")\n"
   ]
  },
  {
   "cell_type": "code",
   "execution_count": 4,
   "id": "e1a1ec7c-23a9-44af-b2dd-84231078c2e1",
   "metadata": {},
   "outputs": [
    {
     "data": {
      "text/plain": [
       "17817"
      ]
     },
     "execution_count": 4,
     "metadata": {},
     "output_type": "execute_result"
    }
   ],
   "source": [
    "#Calculate the total number of incident in zipcode 11101 is 17817.\n",
    "Total_incidents_11101=df[df[\"Incident Zip\"] == 11101]\n",
    "Number_of_total_incidents_11101=len(Total_incidents_11101)\n",
    "Number_of_total_incidents_11101"
   ]
  },
  {
   "cell_type": "code",
   "execution_count": 5,
   "id": "ef21361b-770e-425e-b11c-32d4d11b5370",
   "metadata": {},
   "outputs": [
    {
     "data": {
      "text/plain": [
       "2982"
      ]
     },
     "execution_count": 5,
     "metadata": {},
     "output_type": "execute_result"
    }
   ],
   "source": [
    "#Calculate the total number of parking incidents in 11101 is 2982.\n",
    "Total_parking_incidents_11101=Total_incidents_11101[Total_incidents_11101[\"Complaint Type\"] == \"Illegal Parking\"]\n",
    "Number_of_total_parking_incidents_11101=len(Total_parking_incidents_11101)\n",
    "Number_of_total_parking_incidents_11101"
   ]
  },
  {
   "cell_type": "code",
   "execution_count": 6,
   "id": "b16d2646-e6d0-428b-86bb-1c98d1b7ffb0",
   "metadata": {},
   "outputs": [
    {
     "data": {
      "text/plain": [
       "0.1673682438120896"
      ]
     },
     "execution_count": 6,
     "metadata": {},
     "output_type": "execute_result"
    }
   ],
   "source": [
    "#Calculate fraction of parking incidents across 11101 ZIP code is 16.737%.\n",
    "Ratio_11101=len(Total_parking_incidents_11101)/len(Total_incidents_11101)\n",
    "Ratio_11101"
   ]
  },
  {
   "cell_type": "code",
   "execution_count": 7,
   "id": "aa666194-b254-41fa-9d03-0f15dfd0a320",
   "metadata": {},
   "outputs": [
    {
     "data": {
      "text/plain": [
       "0.07487334365033108"
      ]
     },
     "execution_count": 7,
     "metadata": {},
     "output_type": "execute_result"
    }
   ],
   "source": [
    "#Calculate total fraction of parking incidents across all ZIP codes is 7.487%.\n",
    "Total_ratio=len(df[df[\"Complaint Type\"]==\"Illegal Parking\"])/len(df)\n",
    "Total_ratio"
   ]
  },
  {
   "cell_type": "code",
   "execution_count": 8,
   "id": "b7d7c9f9-34e1-498b-a569-d33cd12bf3d2",
   "metadata": {},
   "outputs": [
    {
     "data": {
      "text/plain": [
       "True"
      ]
     },
     "execution_count": 8,
     "metadata": {},
     "output_type": "execute_result"
    }
   ],
   "source": [
    "#Compared whether the ratio in 11101 is higher than the ratio among all Zip codes. The answer is True.\n",
    "if Ratio_11101 > Total_ratio:\n",
    "    higher_parking_proportion=True\n",
    "else:\n",
    "    higher_parking_proportion=False\n",
    "\n",
    "higher_parking_proportion\n"
   ]
  },
  {
   "cell_type": "code",
   "execution_count": null,
   "id": "4f0574d8-909b-4371-83ec-314f54644d20",
   "metadata": {},
   "outputs": [],
   "source": []
  }
 ],
 "metadata": {
  "kernelspec": {
   "display_name": "Python 3",
   "language": "python",
   "name": "python3"
  },
  "language_info": {
   "codemirror_mode": {
    "name": "ipython",
    "version": 3
   },
   "file_extension": ".py",
   "mimetype": "text/x-python",
   "name": "python",
   "nbconvert_exporter": "python",
   "pygments_lexer": "ipython3",
   "version": "3.8.8"
  }
 },
 "nbformat": 4,
 "nbformat_minor": 5
}

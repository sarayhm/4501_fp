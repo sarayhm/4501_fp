{
 "cells": [
  {
   "cell_type": "code",
   "execution_count": null,
   "id": "50bc75db-7514-48a4-bbbe-a784daa1619a",
   "metadata": {},
   "outputs": [],
   "source": [
    "import pandas as pd\n",
    "df=pd.read_csv(\"311_Service_Requests_2020.csv\")\n"
   ]
  },
  {
   "cell_type": "code",
   "execution_count": 2,
   "id": "e1a1ec7c-23a9-44af-b2dd-84231078c2e1",
   "metadata": {},
   "outputs": [
    {
     "data": {
      "text/plain": [
       "17817"
      ]
     },
     "execution_count": 2,
     "metadata": {},
     "output_type": "execute_result"
    }
   ],
   "source": [
    "Total_incidents_11101=df[df[\"Incident Zip\"] == 11101]\n",
    "len(Total_incidents_11101)"
   ]
  },
  {
   "cell_type": "code",
   "execution_count": 3,
   "id": "ef21361b-770e-425e-b11c-32d4d11b5370",
   "metadata": {},
   "outputs": [
    {
     "data": {
      "text/plain": [
       "2982"
      ]
     },
     "execution_count": 3,
     "metadata": {},
     "output_type": "execute_result"
    }
   ],
   "source": [
    "Total_parking_incidents_11101=Total_incidents_11101[Total_incidents_11101[\"Complaint Type\"] == \"Illegal Parking\"]\n",
    "len(Total_parking_incidents_11101)"
   ]
  },
  {
   "cell_type": "code",
   "execution_count": 4,
   "id": "b16d2646-e6d0-428b-86bb-1c98d1b7ffb0",
   "metadata": {},
   "outputs": [
    {
     "data": {
      "text/plain": [
       "0.1673682438120896"
      ]
     },
     "execution_count": 4,
     "metadata": {},
     "output_type": "execute_result"
    }
   ],
   "source": [
    "len(Total_parking_incidents_11101)/len(Total_incidents_11101)"
   ]
  },
  {
   "cell_type": "code",
   "execution_count": 5,
   "id": "aa666194-b254-41fa-9d03-0f15dfd0a320",
   "metadata": {},
   "outputs": [
    {
     "data": {
      "text/plain": [
       "0.07487334365033108"
      ]
     },
     "execution_count": 5,
     "metadata": {},
     "output_type": "execute_result"
    }
   ],
   "source": [
    "len(df[df[\"Complaint Type\"]==\"Illegal Parking\"])/len(df)"
   ]
  },
  {
   "cell_type": "code",
   "execution_count": 6,
   "id": "fab9674c-386b-40f9-bb4b-f047b63be0d0",
   "metadata": {},
   "outputs": [],
   "source": [
    "higher_parking_proportion=len(Total_parking_incidents_11101)/len(Total_incidents_11101)>len(df[df[\"Complaint Type\"]==\"Illegal Parking\"])/len(df)\n",
    "\n",
    "\n"
   ]
  },
  {
   "cell_type": "code",
   "execution_count": 7,
   "id": "b7d7c9f9-34e1-498b-a569-d33cd12bf3d2",
   "metadata": {},
   "outputs": [
    {
     "data": {
      "text/plain": [
       "True"
      ]
     },
     "execution_count": 7,
     "metadata": {},
     "output_type": "execute_result"
    }
   ],
   "source": [
    "higher_parking_proportion"
   ]
  },
  {
   "cell_type": "code",
   "execution_count": 8,
   "id": "43c3a2ec-3b17-42f8-a2f2-ea37be44c521",
   "metadata": {},
   "outputs": [
    {
     "name": "stdout",
     "output_type": "stream",
     "text": [
      "Total number of parking incidents in 11101 is 2982;\n",
      "Total number of incidents in 11101 is 17817;\n",
      "The total fraction of parking incidents across 11101 area is 0.1673682438120896;\n",
      "The total fraction of parking incidents across all ZIP codes is 0.07487334365033108;\n",
      "There is a higher_parking_proportion.\n"
     ]
    }
   ],
   "source": [
    "\n",
    "print(\"Total number of parking incidents in 11101 is 2982;\\nTotal number of incidents in 11101 is 17817;\\nThe total fraction of parking incidents across 11101 area is 0.1673682438120896;\\nThe total fraction of parking incidents across all ZIP codes is 0.07487334365033108;\\nThere is a higher_parking_proportion.\")\n",
    "\n",
    "\n",
    "\n"
   ]
  },
  {
   "cell_type": "code",
   "execution_count": null,
   "id": "8182b467-0ed1-4fbe-9bca-c20dcf259ab0",
   "metadata": {},
   "outputs": [],
   "source": []
  },
  {
   "cell_type": "code",
   "execution_count": null,
   "id": "83e879d9-36a1-46fe-a9bf-d878dec90bb2",
   "metadata": {},
   "outputs": [],
   "source": []
  }
 ],
 "metadata": {
  "kernelspec": {
   "display_name": "Python 3",
   "language": "python",
   "name": "python3"
  },
  "language_info": {
   "codemirror_mode": {
    "name": "ipython",
    "version": 3
   },
   "file_extension": ".py",
   "mimetype": "text/x-python",
   "name": "python",
   "nbconvert_exporter": "python",
   "pygments_lexer": "ipython3",
   "version": "3.8.8"
  }
 },
 "nbformat": 4,
 "nbformat_minor": 5
}

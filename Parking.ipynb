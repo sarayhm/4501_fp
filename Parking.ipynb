{
 "cells": [
  {
   "cell_type": "code",
   "execution_count": 1,
   "metadata": {},
   "outputs": [],
   "source": [
    "import numpy as np\n",
    "import pandas as pd"
   ]
  },
  {
   "cell_type": "code",
   "execution_count": 2,
   "metadata": {},
   "outputs": [
    {
     "name": "stderr",
     "output_type": "stream",
     "text": [
      "/opt/anaconda3/lib/python3.8/site-packages/IPython/core/interactiveshell.py:3343: DtypeWarning: Columns (20,31,32) have mixed types.Specify dtype option on import or set low_memory=False.\n",
      "  exec(code_obj, self.user_global_ns, self.user_ns)\n"
     ]
    }
   ],
   "source": [
    "filename = \"311_Service_Requests_2020.csv\"\n",
    "# read the whole dataset\n",
    "data = pd.read_csv(filename)\n",
    "\n",
    "# filter the dataset\n",
    "a = data[data[\"Incident Zip\"] == 11101]"
   ]
  },
  {
   "cell_type": "code",
   "execution_count": 3,
   "metadata": {},
   "outputs": [
    {
     "name": "stdout",
     "output_type": "stream",
     "text": [
      "In zipcode 11101, Illegal Parking makes up 16.74 % of the population\n",
      "In general, Illegal Parking makes up 7.49 % of the population\n"
     ]
    },
    {
     "data": {
      "text/plain": [
       "False"
      ]
     },
     "execution_count": 3,
     "metadata": {},
     "output_type": "execute_result"
    }
   ],
   "source": [
    "# fractions of illegal parking in zipcode 11101 and in entire new york city\n",
    "num_local = a.loc[a[\"Complaint Type\"] == \"Illegal Parking\"].size\n",
    "num_all = data.loc[data[\"Complaint Type\"] == \"Illegal Parking\"].size\n",
    "\n",
    "size_local = a.size\n",
    "size_all = data.size\n",
    "\n",
    "fraction_local = num_local / size_local*100\n",
    "fraction_all = num_all / size_all*100\n",
    "\n",
    "fraction_local = \"{:.2f}\".format(fraction_local)\n",
    "fraction_all = \"{:.2f}\".format(fraction_all)\n",
    "\n",
    "print(\"In zipcode 11101, illegal Parking makes up\", fraction_local, \"% of the population\")\n",
    "print(\"In general, illegal Parking makes up\", fraction_all, \"% of the population\")\n",
    "\n",
    "if fraction_local > fraction_all:\n",
    "    higher_parking_proportion = True\n",
    "else:\n",
    "    higher_parking_proportion = False\n",
    "\n",
    "higher_parking_proportion"
   ]
  },
  {
   "cell_type": "code",
   "execution_count": null,
   "metadata": {},
   "outputs": [],
   "source": []
  }
 ],
 "metadata": {
  "kernelspec": {
   "display_name": "Python 3",
   "language": "python",
   "name": "python3"
  },
  "language_info": {
   "codemirror_mode": {
    "name": "ipython",
    "version": 3
   },
   "file_extension": ".py",
   "mimetype": "text/x-python",
   "name": "python",
   "nbconvert_exporter": "python",
   "pygments_lexer": "ipython3",
   "version": "3.8.3"
  }
 },
 "nbformat": 4,
 "nbformat_minor": 4
}

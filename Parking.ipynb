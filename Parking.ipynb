{
 "cells": [
  {
   "cell_type": "code",
   "execution_count": 12,
   "metadata": {},
   "outputs": [],
   "source": [
    "import pandas as pd\n",
    "df=pd.read_csv(\"311_Service_Requests_2020.csv\")\n"
   ]
  },
  {
   "cell_type": "code",
   "execution_count": 13,
   "metadata": {},
   "outputs": [
    {
     "data": {
      "text/plain": [
       "17817"
      ]
     },
     "execution_count": 13,
     "metadata": {},
     "output_type": "execute_result"
    }
   ],
   "source": [
    "#Calculate the total number of incident in zipcode 11101, which is 17817.\n",
    "Total_incidents_11101=df[df[\"Incident Zip\"] == 11101]\n",
    "Number_of_total_incidents_11101=len(Total_incidents_11101)\n",
    "Number_of_total_incidents_11101"
   ]
  },
  {
   "cell_type": "code",
   "execution_count": 14,
   "metadata": {},
   "outputs": [
    {
     "data": {
      "text/plain": [
       "2982"
      ]
     },
     "execution_count": 14,
     "metadata": {},
     "output_type": "execute_result"
    }
   ],
   "source": [
    "#Calculate the total number of parking incidents in 11101, which is 2982.\n",
    "Total_parking_incidents_11101=Total_incidents_11101[Total_incidents_11101[\"Complaint Type\"] == \"Illegal Parking\"]\n",
    "Number_of_total_parking_incidents_11101=len(Total_parking_incidents_11101)\n",
    "Number_of_total_parking_incidents_11101"
   ]
  },
  {
   "cell_type": "code",
   "execution_count": 15,
   "metadata": {},
   "outputs": [
    {
     "data": {
      "text/plain": [
       "0.1673682438120896"
      ]
     },
     "execution_count": 15,
     "metadata": {},
     "output_type": "execute_result"
    }
   ],
   "source": [
    "#Calculate fraction of parking incidents across 11101 zip code, which is 16.74%.\n",
    "Ratio_11101=len(Total_parking_incidents_11101)/len(Total_incidents_11101)\n",
    "Ratio_11101"
   ]
  },
  {
   "cell_type": "code",
   "execution_count": 16,
   "metadata": {},
   "outputs": [
    {
     "data": {
      "text/plain": [
       "0.07487334365033108"
      ]
     },
     "execution_count": 16,
     "metadata": {},
     "output_type": "execute_result"
    }
   ],
   "source": [
    "#Calculate total fraction of parking incidents across all zip codes, which is 7.49%.\n",
    "Total_ratio=len(df[df[\"Complaint Type\"]==\"Illegal Parking\"])/len(df)\n",
    "Total_ratio"
   ]
  },
  {
   "cell_type": "code",
   "execution_count": 17,
   "metadata": {},
   "outputs": [
    {
     "data": {
      "text/plain": [
       "True"
      ]
     },
     "execution_count": 17,
     "metadata": {},
     "output_type": "execute_result"
    }
   ],
   "source": [
    "#Compared whether the ratio in 11101 is higher than the ratio among all Zip codes. The answer is True.\n",
    "if Ratio_11101 > Total_ratio:\n",
    "    higher_parking_proportion=True\n",
    "else:\n",
    "    higher_parking_proportion=False\n",
    "\n",
    "higher_parking_proportion\n"
   ]
  },
  {
   "cell_type": "code",
   "execution_count": 18,
   "metadata": {},
   "outputs": [
    {
     "name": "stdout",
     "output_type": "stream",
     "text": [
      "In zipcode 11101, illegal Parking makes up 16.74 % of the population\n",
      "In general, illegal Parking makes up 7.49 % of the population\n"
     ]
    }
   ],
   "source": [
    "fraction_local = \"{:.2f}\".format(Ratio_11101*100)\n",
    "fraction_all = \"{:.2f}\".format(Total_ratio*100)\n",
    "\n",
    "print(\"In zipcode 11101, illegal Parking makes up\", fraction_local, \"% of the population\")\n",
    "print(\"In general, illegal Parking makes up\", fraction_all, \"% of the population\")"
   ]
  },
  {
   "cell_type": "code",
   "execution_count": null,
   "metadata": {},
   "outputs": [],
   "source": []
  }
 ],
 "metadata": {
  "kernelspec": {
   "display_name": "Python 3",
   "language": "python",
   "name": "python3"
  },
  "language_info": {
   "codemirror_mode": {
    "name": "ipython",
    "version": 3
   },
   "file_extension": ".py",
   "mimetype": "text/x-python",
   "name": "python",
   "nbconvert_exporter": "python",
   "pygments_lexer": "ipython3",
   "version": "3.8.3"
  }
 },
 "nbformat": 4,
 "nbformat_minor": 5
}
